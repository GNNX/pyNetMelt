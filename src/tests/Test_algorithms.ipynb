{
 "cells": [
  {
   "cell_type": "code",
   "execution_count": 1,
   "metadata": {},
   "outputs": [],
   "source": [
    "import os\n",
    "\n",
    "test_dir = os.getcwd()\n",
    "lib_dir = test_dir+\"/../lib/\"\n",
    "\n",
    "os.chdir(lib_dir)\n",
    "import algorithms\n",
    "import numpy as np\n"
   ]
  },
  {
   "cell_type": "markdown",
   "metadata": {},
   "source": [
    "###### Parameters"
   ]
  },
  {
   "cell_type": "code",
   "execution_count": 2,
   "metadata": {},
   "outputs": [],
   "source": [
    "N = 50  # number of nodes\n",
    "exponent = -0.5 # exponent of laplacian method\n",
    "\n",
    "alpha = 0.2 # alpha of the propagation"
   ]
  },
  {
   "cell_type": "code",
   "execution_count": 7,
   "metadata": {},
   "outputs": [
    {
     "name": "stdout",
     "output_type": "stream",
     "text": [
      "(2,)\n",
      "[[0.5        0.70710678]\n",
      " [0.35355339 0.5       ]]\n",
      "-1.0\n"
     ]
    }
   ],
   "source": [
    "matrix = np.array([[1,2],[1,2]])\n",
    "strength = matrix.sum(axis=0)\n",
    "lap = algorithms.normalize_by_strength(matrix, exponent, strength)\n",
    "\n",
    "print(strength.shape)\n",
    "print(lap)\n",
    "print(np.sign(0-1e-10))"
   ]
  },
  {
   "cell_type": "code",
   "execution_count": 15,
   "metadata": {},
   "outputs": [
    {
     "name": "stdout",
     "output_type": "stream",
     "text": [
      "[[0.8149547  0.10186934 0.07568778 0.        ]\n",
      " [0.10186934 0.8149547  0.07568778 0.        ]\n",
      " [0.08317597 0.08317597 0.74158576 0.12613198]\n",
      " [0.         0.         0.10703868 0.87386802]]\n"
     ]
    }
   ],
   "source": [
    "network = algorithms.Network(np.array([[0, 1, 1, 0],\n",
    "                      [1, 0, 1, 0],\n",
    "                      [1, 1, 0, 1],\n",
    "                      [0, 0, 1, 0]]))\n",
    "seed_matrix = np.eye(4)\n",
    "\n",
    "score_matrix = algorithms.Propagator.label_propagator(network, \n",
    "                                           seed_matrix, \n",
    "                                           alpha=alpha, \n",
    "                                           max_iter=1, \n",
    "                                           exponent=exponent)\n",
    "print(score_matrix)"
   ]
  },
  {
   "cell_type": "code",
   "execution_count": 21,
   "metadata": {},
   "outputs": [
    {
     "data": {
      "text/plain": [
       "array([[1, 2, 4, 4],\n",
       "       [2, 1, 3, 3],\n",
       "       [3, 3, 1, 2],\n",
       "       [4, 4, 2, 1]])"
      ]
     },
     "execution_count": 21,
     "metadata": {},
     "output_type": "execute_result"
    }
   ],
   "source": [
    "4-score_matrix.argsort(axis=0).argsort(axis=0)"
   ]
  },
  {
   "cell_type": "markdown",
   "metadata": {},
   "source": [
    "### Time of propagator"
   ]
  },
  {
   "cell_type": "code",
   "execution_count": 13,
   "metadata": {},
   "outputs": [],
   "source": [
    "import matplotlib.pylab as plt"
   ]
  },
  {
   "cell_type": "code",
   "execution_count": 12,
   "metadata": {},
   "outputs": [
    {
     "name": "stdout",
     "output_type": "stream",
     "text": [
      "Test time\n",
      "0.31139135360717773\n"
     ]
    }
   ],
   "source": [
    "def propagator_time(number_of_nodes, max_iter):\n",
    "N = 1000\n",
    "x = np.random.uniform(size=(N, N))\n",
    "n = algorithms.Network((x+x.T) >= 1)\n",
    "seed_matrix = np.eye(N)\n",
    "\n",
    "from time import time\n",
    "\n",
    "t0 = time()\n",
    "score_matrix = algorithms.Propagator.label_propagator(n, seed_matrix, alpha=0.8, max_iter=100, exponent=exponent)\n",
    "print(time() - t0)"
   ]
  }
 ],
 "metadata": {
  "kernelspec": {
   "display_name": "Python 3",
   "language": "python",
   "name": "python3"
  },
  "language_info": {
   "codemirror_mode": {
    "name": "ipython",
    "version": 3
   },
   "file_extension": ".py",
   "mimetype": "text/x-python",
   "name": "python",
   "nbconvert_exporter": "python",
   "pygments_lexer": "ipython3",
   "version": "3.6.4"
  }
 },
 "nbformat": 4,
 "nbformat_minor": 2
}
