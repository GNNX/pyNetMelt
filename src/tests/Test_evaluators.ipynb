{
 "cells": [
  {
   "cell_type": "code",
   "execution_count": 1,
   "metadata": {},
   "outputs": [],
   "source": [
    "import os\n",
    "\n",
    "test_dir = os.getcwd()\n",
    "lib_dir = test_dir+\"/../lib/\"\n",
    "\n",
    "os.chdir(lib_dir)\n",
    "import algorithms\n",
    "import evaluators\n",
    "import numpy as np\n"
   ]
  },
  {
   "cell_type": "markdown",
   "metadata": {},
   "source": [
    "###### Parameters"
   ]
  },
  {
   "cell_type": "code",
   "execution_count": 18,
   "metadata": {},
   "outputs": [],
   "source": [
    "np.random.seed(1)\n",
    "n_targets = 10\n",
    "N = 50  # number of nodes\n",
    "\n",
    "laplacian_exponent = -0.5  # exponent of laplacian method\n",
    "alpha = 0.2 # alpha of the propagation\n",
    "\n",
    "max_fpr = 0.1\n",
    "max_iter = 100"
   ]
  },
  {
   "cell_type": "code",
   "execution_count": 19,
   "metadata": {},
   "outputs": [
    {
     "name": "stdout",
     "output_type": "stream",
     "text": [
      "mode: adjacency \n",
      " value: \n",
      " [[0. 0. 0. ... 0. 0. 1.]\n",
      " [1. 0. 0. ... 0. 0. 0.]\n",
      " [0. 1. 0. ... 0. 0. 0.]\n",
      " ...\n",
      " [0. 0. 0. ... 0. 0. 0.]\n",
      " [0. 0. 0. ... 1. 0. 0.]\n",
      " [0. 0. 0. ... 0. 1. 0.]]\n"
     ]
    }
   ],
   "source": [
    "# x = np.random.uniform(size=(N, N))\n",
    "# network = algorithms.Network(1*((x + x.T) >= 1))\n",
    "x = np.roll(np.eye(N), 1, axis=0)\n",
    "network = algorithms.Network(x+x.T)\n",
    "network = algorithms.Network(x)\n",
    "print(network)"
   ]
  },
  {
   "cell_type": "code",
   "execution_count": 26,
   "metadata": {},
   "outputs": [
    {
     "name": "stdout",
     "output_type": "stream",
     "text": [
      "[0.7        0.03333333 0.03333333 0.03333333 0.03333333 0.03333333\n",
      " 0.03333333 0.03333333 0.03333333 0.03333333]\n",
      "Target list:\n",
      "[array([ 1,  2,  3,  4,  5,  6,  7,  8,  9, 10]), array([ 2,  3,  4,  5,  6,  7,  8,  9, 10, 11]), array([ 3,  4,  5,  6,  7,  8,  9, 10, 11, 12]), array([ 4,  5,  6,  7,  8,  9, 10, 11, 12, 13]), array([ 5,  6,  7,  8,  9, 10, 11, 12, 13, 14]), array([ 6,  7,  8,  9, 10, 11, 12, 13, 14, 15]), array([ 7,  8,  9, 10, 11, 12, 13, 14, 15, 16]), array([ 8,  9, 10, 11, 12, 13, 14, 15, 16, 17]), array([ 9, 10, 11, 12, 13, 14, 15, 16, 17, 18]), array([10, 11, 12, 13, 14, 15, 16, 17, 18, 19]), array([11, 12, 13, 14, 15, 16, 17, 18, 19, 20]), array([12, 13, 14, 15, 16, 17, 18, 19, 20, 21]), array([13, 14, 15, 16, 17, 18, 19, 20, 21, 22]), array([14, 15, 16, 17, 18, 19, 20, 21, 22, 23]), array([15, 16, 17, 18, 19, 20, 21, 22, 23, 24]), array([16, 17, 18, 19, 20, 21, 22, 23, 24, 25]), array([17, 18, 19, 20, 21, 22, 23, 24, 25, 26]), array([18, 19, 20, 21, 22, 23, 24, 25, 26, 27]), array([19, 20, 21, 22, 23, 24, 25, 26, 27, 28]), array([20, 21, 22, 23, 24, 25, 26, 27, 28, 29]), array([21, 22, 23, 24, 25, 26, 27, 28, 29, 30]), array([22, 23, 24, 25, 26, 27, 28, 29, 30, 31]), array([23, 24, 25, 26, 27, 28, 29, 30, 31, 32]), array([24, 25, 26, 27, 28, 29, 30, 31, 32, 33]), array([25, 26, 27, 28, 29, 30, 31, 32, 33, 34]), array([26, 27, 28, 29, 30, 31, 32, 33, 34, 35]), array([27, 28, 29, 30, 31, 32, 33, 34, 35, 36]), array([28, 29, 30, 31, 32, 33, 34, 35, 36, 37]), array([29, 30, 31, 32, 33, 34, 35, 36, 37, 38]), array([30, 31, 32, 33, 34, 35, 36, 37, 38, 39]), array([31, 32, 33, 34, 35, 36, 37, 38, 39, 40]), array([32, 33, 34, 35, 36, 37, 38, 39, 40, 41]), array([33, 34, 35, 36, 37, 38, 39, 40, 41, 42]), array([34, 35, 36, 37, 38, 39, 40, 41, 42, 43]), array([35, 36, 37, 38, 39, 40, 41, 42, 43, 44]), array([36, 37, 38, 39, 40, 41, 42, 43, 44, 45]), array([37, 38, 39, 40, 41, 42, 43, 44, 45, 46]), array([38, 39, 40, 41, 42, 43, 44, 45, 46, 47]), array([39, 40, 41, 42, 43, 44, 45, 46, 47, 48]), array([40, 41, 42, 43, 44, 45, 46, 47, 48, 49]), array([41, 42, 43, 44, 45, 46, 47, 48, 49,  0]), array([42, 43, 44, 45, 46, 47, 48, 49,  0,  1]), array([43, 44, 45, 46, 47, 48, 49,  0,  1,  2]), array([44, 45, 46, 47, 48, 49,  0,  1,  2,  3]), array([45, 46, 47, 48, 49,  0,  1,  2,  3,  4]), array([46, 47, 48, 49,  0,  1,  2,  3,  4,  5]), array([47, 48, 49,  0,  1,  2,  3,  4,  5,  6]), array([48, 49,  0,  1,  2,  3,  4,  5,  6,  7]), array([49,  0,  1,  2,  3,  4,  5,  6,  7,  8]), array([0, 1, 2, 3, 4, 5, 6, 7, 8, 9])]\n",
      "True targets\n",
      "[[1], [11], [3], [4], [5], [8], [7], [8], [18], [15], [11], [12], [13], [18], [15], [16], [17], [18], [19], [20], [21], [31], [23], [24], [25], [28], [27], [28], [29], [30], [31], [32], [35], [34], [35], [40], [37], [38], [39], [47], [41], [42], [45], [47], [2], [3], [47], [48], [49], [8]]\n"
     ]
    }
   ],
   "source": [
    "seeds_matrix = np.eye(N)\n",
    "targets_list = [np.roll(np.arange(N), -n)[1:(n_targets+1)] for n in range(N)]\n",
    "\n",
    "p1 = 0.7\n",
    "p = np.repeat((1-p1)/(n_targets-1), n_targets-1)\n",
    "p = np.insert(p, 0, p1)\n",
    "print(p)\n",
    "true_targets = [[int(np.random.choice(targets, size=1, p=p))] for targets in targets_list]\n",
    "\n",
    "print(\"Target list:\")\n",
    "print(targets_list)\n",
    "print(\"True targets\")\n",
    "print(true_targets)"
   ]
  },
  {
   "cell_type": "code",
   "execution_count": 27,
   "metadata": {},
   "outputs": [
    {
     "name": "stdout",
     "output_type": "stream",
     "text": [
      "Network already in laplacian form. \n",
      " Aborting conversion.\n",
      "AUC: 0.53509\n"
     ]
    }
   ],
   "source": [
    "evalauc = evaluators.AUROClinkage(seeds_matrix, \n",
    "                                  targets_list, \n",
    "                                  true_targets, \n",
    "                                  alpha=alpha, \n",
    "                                  tol=1e-08, \n",
    "                                  max_iter=max_iter, \n",
    "                                  max_fpr=max_fpr,\n",
    "                                  laplacian_exponent=laplacian_exponent)\n",
    "auc = evalauc.evaluate(network)\n",
    "\n",
    "\n",
    "print(\"AUC: {:.5f}\".format(auc))"
   ]
  }
 ],
 "metadata": {
  "kernelspec": {
   "display_name": "Python 3",
   "language": "python",
   "name": "python3"
  },
  "language_info": {
   "codemirror_mode": {
    "name": "ipython",
    "version": 3
   },
   "file_extension": ".py",
   "mimetype": "text/x-python",
   "name": "python",
   "nbconvert_exporter": "python",
   "pygments_lexer": "ipython3",
   "version": "3.6.4"
  }
 },
 "nbformat": 4,
 "nbformat_minor": 2
}
